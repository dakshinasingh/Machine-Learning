{
  "nbformat": 4,
  "nbformat_minor": 0,
  "metadata": {
    "colab": {
      "name": "imputing.ipynb",
      "provenance": [],
      "collapsed_sections": []
    },
    "kernelspec": {
      "name": "python3",
      "display_name": "Python 3"
    },
    "language_info": {
      "name": "python"
    }
  },
  "cells": [
    {
      "cell_type": "code",
      "execution_count": null,
      "metadata": {
        "id": "TPHBLmlkFWSR"
      },
      "outputs": [],
      "source": [
        "import numpy as np\n",
        "X = [[np.nan, 5, 6], [7, 8, np.nan], [1, 2, 3]]"
      ]
    },
    {
      "cell_type": "code",
      "source": [
        "from sklearn.impute import SimpleImputer\n",
        "y = SimpleImputer(missing_values = np.nan, strategy = 'mean')\n",
        "y.fit(X)\n",
        "print(y.transform(X))"
      ],
      "metadata": {
        "colab": {
          "base_uri": "https://localhost:8080/"
        },
        "id": "GZ7V0OCmm4mp",
        "outputId": "059125d9-6121-444b-a363-8cf1b884889b"
      },
      "execution_count": null,
      "outputs": [
        {
          "output_type": "stream",
          "name": "stdout",
          "text": [
            "[[4.  5.  6. ]\n",
            " [7.  8.  4.5]\n",
            " [1.  2.  3. ]]\n"
          ]
        }
      ]
    },
    {
      "cell_type": "code",
      "source": [
        "from sklearn.impute import SimpleImputer\n",
        "y = SimpleImputer(missing_values = np.nan, strategy = 'median')\n",
        "y.fit(X)\n",
        "print(X)\n",
        "print(y.transform(X))"
      ],
      "metadata": {
        "colab": {
          "base_uri": "https://localhost:8080/"
        },
        "id": "w6dsl9UEn5CU",
        "outputId": "721f0870-8f67-43a6-a225-1a937d38c42b"
      },
      "execution_count": null,
      "outputs": [
        {
          "output_type": "stream",
          "name": "stdout",
          "text": [
            "[[nan, 5, 6], [7, 8, nan], [1, 2, 3]]\n",
            "[[4.  5.  6. ]\n",
            " [7.  8.  4.5]\n",
            " [1.  2.  3. ]]\n"
          ]
        }
      ]
    },
    {
      "cell_type": "code",
      "source": [
        "Z = [[np.nan, 5, 6], [7, 8, np.nan], [1, 2, 3], [4, 7, 9]]\n",
        "from sklearn.impute import SimpleImputer\n",
        "y = SimpleImputer(missing_values = np.nan, strategy = 'median')\n",
        "y.fit(Z)\n",
        "print(Z)\n",
        "print(y.transform(Z))"
      ],
      "metadata": {
        "colab": {
          "base_uri": "https://localhost:8080/"
        },
        "id": "EBeib7yOoCs_",
        "outputId": "8647a7a0-d743-4e71-e856-4c31cd816d4e"
      },
      "execution_count": null,
      "outputs": [
        {
          "output_type": "stream",
          "name": "stdout",
          "text": [
            "[[nan, 5, 6], [7, 8, nan], [1, 2, 3], [4, 7, 9]]\n",
            "[[4. 5. 6.]\n",
            " [7. 8. 6.]\n",
            " [1. 2. 3.]\n",
            " [4. 7. 9.]]\n"
          ]
        }
      ]
    },
    {
      "cell_type": "code",
      "source": [
        "Z = [[np.nan, 5, 6], [7, 8, np.nan], [1, 2, 3], [4, 7, 9]]\n",
        "from sklearn.impute import SimpleImputer\n",
        "y = SimpleImputer(missing_values = np.nan, strategy = 'most_frequent')\n",
        "y.fit(Z)\n",
        "print(Z)\n",
        "print(y.transform(Z))"
      ],
      "metadata": {
        "colab": {
          "base_uri": "https://localhost:8080/"
        },
        "id": "MRaPa6Q7oYOo",
        "outputId": "11d74e2b-581e-4334-e467-93e9bfdee286"
      },
      "execution_count": null,
      "outputs": [
        {
          "output_type": "stream",
          "name": "stdout",
          "text": [
            "[[nan, 5, 6], [7, 8, nan], [1, 2, 3], [4, 7, 9]]\n",
            "[[1. 5. 6.]\n",
            " [7. 8. 3.]\n",
            " [1. 2. 3.]\n",
            " [4. 7. 9.]]\n"
          ]
        }
      ]
    },
    {
      "cell_type": "code",
      "source": [
        "Z = [[np.nan, 5, 6], [4, 8, np.nan], [1, 2, 3], [4, 7, 9]]\n",
        "from sklearn.impute import SimpleImputer\n",
        "y = SimpleImputer(missing_values = np.nan, strategy = 'most_frequent')\n",
        "y.fit(Z)\n",
        "print(Z)\n",
        "print(y.transform(Z))"
      ],
      "metadata": {
        "colab": {
          "base_uri": "https://localhost:8080/"
        },
        "id": "d2Q8PE_Doh4e",
        "outputId": "71fd50b2-0569-4290-8209-36833d993c15"
      },
      "execution_count": null,
      "outputs": [
        {
          "output_type": "stream",
          "name": "stdout",
          "text": [
            "[[nan, 5, 6], [4, 8, nan], [1, 2, 3], [4, 7, 9]]\n",
            "[[4. 5. 6.]\n",
            " [4. 8. 3.]\n",
            " [1. 2. 3.]\n",
            " [4. 7. 9.]]\n"
          ]
        }
      ]
    },
    {
      "cell_type": "code",
      "source": [
        "Z = [[np.nan, 5, 6], [4, 8, np.nan], [1, 2, 3], [4, 7, 9]]\n",
        "from sklearn.impute import SimpleImputer\n",
        "y = SimpleImputer(missing_values = np.nan, strategy = 'constant')\n",
        "y.fit(Z)\n",
        "print(Z)\n",
        "print(y.transform(Z))"
      ],
      "metadata": {
        "colab": {
          "base_uri": "https://localhost:8080/"
        },
        "id": "QYaw1Pmjorld",
        "outputId": "dfdd2f99-9548-4fee-c8e9-b4b51a3e5107"
      },
      "execution_count": null,
      "outputs": [
        {
          "output_type": "stream",
          "name": "stdout",
          "text": [
            "[[nan, 5, 6], [4, 8, nan], [1, 2, 3], [4, 7, 9]]\n",
            "[[0. 5. 6.]\n",
            " [4. 8. 0.]\n",
            " [1. 2. 3.]\n",
            " [4. 7. 9.]]\n"
          ]
        }
      ]
    }
  ]
}