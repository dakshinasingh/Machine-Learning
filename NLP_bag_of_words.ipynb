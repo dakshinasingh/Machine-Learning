{
  "nbformat": 4,
  "nbformat_minor": 0,
  "metadata": {
    "colab": {
      "name": "NLP-bag_of_words.ipynb",
      "provenance": [],
      "collapsed_sections": []
    },
    "kernelspec": {
      "name": "python3",
      "display_name": "Python 3"
    },
    "language_info": {
      "name": "python"
    }
  },
  "cells": [
    {
      "cell_type": "code",
      "execution_count": null,
      "metadata": {
        "id": "-l5RC9_YHLnu"
      },
      "outputs": [],
      "source": [
        "corpus = [\"This is about the Cricket Game is\", \"This is about the Chess Chess Game is\", \"This is about the Football Game is\"]"
      ]
    },
    {
      "cell_type": "code",
      "source": [
        "from sklearn.feature_extraction.text import CountVectorizer\n",
        "cv = CountVectorizer()\n",
        "vector = cv.fit_transform(corpus)\n",
        "print(cv.get_feature_names_out())\n",
        "print(vector.toarray())"
      ],
      "metadata": {
        "colab": {
          "base_uri": "https://localhost:8080/"
        },
        "id": "EmJOyn7tHP2t",
        "outputId": "31083810-d253-44e0-c413-e1a39220a322"
      },
      "execution_count": null,
      "outputs": [
        {
          "output_type": "stream",
          "name": "stdout",
          "text": [
            "['about' 'chess' 'cricket' 'football' 'game' 'is' 'the' 'this']\n",
            "[[1 0 1 0 1 2 1 1]\n",
            " [1 2 0 0 1 2 1 1]\n",
            " [1 0 0 1 1 2 1 1]]\n"
          ]
        }
      ]
    },
    {
      "cell_type": "code",
      "source": [
        "cv1 = CountVectorizer(stop_words = ['this', 'is', 'about'])\n",
        "vector = cv1.fit_transform(corpus)\n",
        "print(cv1.get_feature_names_out())\n",
        "print(vector.toarray())"
      ],
      "metadata": {
        "colab": {
          "base_uri": "https://localhost:8080/"
        },
        "id": "6nCM8nEwHPuf",
        "outputId": "d778992b-404b-4965-842d-066579b4d3b3"
      },
      "execution_count": null,
      "outputs": [
        {
          "output_type": "stream",
          "name": "stdout",
          "text": [
            "['chess' 'cricket' 'football' 'game' 'the']\n",
            "[[0 1 0 1 1]\n",
            " [2 0 0 1 1]\n",
            " [0 0 1 1 1]]\n"
          ]
        }
      ]
    },
    {
      "cell_type": "code",
      "source": [
        "cv2 = CountVectorizer(max_df = 1)\n",
        "vector = cv2.fit_transform(corpus)\n",
        "print(cv2.get_feature_names_out())\n",
        "print(vector.toarray())"
      ],
      "metadata": {
        "colab": {
          "base_uri": "https://localhost:8080/"
        },
        "id": "YWJplH_sHPlR",
        "outputId": "51f48203-2037-4244-9410-e3c1b2b55563"
      },
      "execution_count": null,
      "outputs": [
        {
          "output_type": "stream",
          "name": "stdout",
          "text": [
            "['chess' 'cricket' 'football']\n",
            "[[0 1 0]\n",
            " [2 0 0]\n",
            " [0 0 1]]\n"
          ]
        }
      ]
    },
    {
      "cell_type": "code",
      "source": [
        "cv3 = CountVectorizer(ngram_range=(2, 5), analyzer='word')\n",
        "vector = cv3.fit_transform(corpus)\n",
        "print(cv3.get_feature_names_out(), len(cv3.get_feature_names_out()))\n",
        "print(vector.toarray(), len(vector.toarray()[0]))"
      ],
      "metadata": {
        "colab": {
          "base_uri": "https://localhost:8080/"
        },
        "id": "QhTjy8LYHPcG",
        "outputId": "ec209150-1cff-435c-e223-4a5f6a472dcc"
      },
      "execution_count": null,
      "outputs": [
        {
          "output_type": "stream",
          "name": "stdout",
          "text": [
            "['about the' 'about the chess' 'about the chess chess'\n",
            " 'about the chess chess game' 'about the cricket' 'about the cricket game'\n",
            " 'about the cricket game is' 'about the football'\n",
            " 'about the football game' 'about the football game is' 'chess chess'\n",
            " 'chess chess game' 'chess chess game is' 'chess game' 'chess game is'\n",
            " 'cricket game' 'cricket game is' 'football game' 'football game is'\n",
            " 'game is' 'is about' 'is about the' 'is about the chess'\n",
            " 'is about the chess chess' 'is about the cricket'\n",
            " 'is about the cricket game' 'is about the football'\n",
            " 'is about the football game' 'the chess' 'the chess chess'\n",
            " 'the chess chess game' 'the chess chess game is' 'the cricket'\n",
            " 'the cricket game' 'the cricket game is' 'the football'\n",
            " 'the football game' 'the football game is' 'this is' 'this is about'\n",
            " 'this is about the' 'this is about the chess' 'this is about the cricket'\n",
            " 'this is about the football'] 44\n",
            "[[1 0 0 0 1 1 1 0 0 0 0 0 0 0 0 1 1 0 0 1 1 1 0 0 1 1 0 0 0 0 0 0 1 1 1 0\n",
            "  0 0 1 1 1 0 1 0]\n",
            " [1 1 1 1 0 0 0 0 0 0 1 1 1 1 1 0 0 0 0 1 1 1 1 1 0 0 0 0 1 1 1 1 0 0 0 0\n",
            "  0 0 1 1 1 1 0 0]\n",
            " [1 0 0 0 0 0 0 1 1 1 0 0 0 0 0 0 0 1 1 1 1 1 0 0 0 0 1 1 0 0 0 0 0 0 0 1\n",
            "  1 1 1 1 1 0 0 1]] 44\n"
          ]
        }
      ]
    },
    {
      "cell_type": "code",
      "source": [
        "from sklearn.feature_extraction.text import TfidfVectorizer\n",
        "tfidf = TfidfVectorizer()\n",
        "vector1 = tfidf.fit_transform(corpus)\n",
        "print(tfidf.get_feature_names_out())\n",
        "print(vector1.toarray())"
      ],
      "metadata": {
        "id": "qKe26MpxHcNJ",
        "outputId": "fa785630-16a4-4178-8294-bb2665a108a1",
        "colab": {
          "base_uri": "https://localhost:8080/"
        }
      },
      "execution_count": null,
      "outputs": [
        {
          "output_type": "stream",
          "name": "stdout",
          "text": [
            "['about' 'chess' 'cricket' 'football' 'game' 'is' 'the' 'this']\n",
            "[[0.30335434 0.         0.51362355 0.         0.30335434 0.60670868\n",
            "  0.30335434 0.30335434]\n",
            " [0.22664733 0.76749457 0.         0.         0.22664733 0.45329466\n",
            "  0.22664733 0.22664733]\n",
            " [0.30335434 0.         0.         0.51362355 0.30335434 0.60670868\n",
            "  0.30335434 0.30335434]]\n"
          ]
        }
      ]
    }
  ]
}