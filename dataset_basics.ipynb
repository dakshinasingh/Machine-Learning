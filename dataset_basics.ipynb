{
  "nbformat": 4,
  "nbformat_minor": 0,
  "metadata": {
    "colab": {
      "name": "dataset-basics.ipynb",
      "provenance": [],
      "collapsed_sections": []
    },
    "kernelspec": {
      "name": "python3",
      "display_name": "Python 3"
    },
    "language_info": {
      "name": "python"
    }
  },
  "cells": [
    {
      "cell_type": "markdown",
      "source": [
        "### importing dataset\n"
      ],
      "metadata": {
        "id": "O_k8JxtPEsQQ"
      }
    },
    {
      "cell_type": "code",
      "execution_count": null,
      "metadata": {
        "id": "CWpjwyZrEo9b"
      },
      "outputs": [],
      "source": [
        "# LOADING DATASET FROM SKLEARN \n",
        "\n",
        "from sklearn.datasets import load_iris\n",
        "iris = load_iris()\n",
        "print(iris)"
      ]
    },
    {
      "cell_type": "code",
      "source": [
        "x, y = load_iris(return_X_y=True, as_frame=True)\n",
        "print(x, y)"
      ],
      "metadata": {
        "id": "pu-fBsX1E8pa"
      },
      "execution_count": null,
      "outputs": []
    },
    {
      "cell_type": "code",
      "source": [
        "# LOADING DATA FROM A FILE\n",
        "\n",
        "import pandas as pd\n",
        "insurance = pd.read_csv(\"../input/insurance/insurance.csv\")\n",
        "insurance"
      ],
      "metadata": {
        "id": "8V8bD-P5E9Iy"
      },
      "execution_count": null,
      "outputs": []
    },
    {
      "cell_type": "code",
      "source": [
        "import pandas as pd\n",
        "data = pd.read_csv(\"https://archive.ics.uci.edu/ml/machine-learning-databases/iris/iris.data\", names=['f1', 'f2', 'f3', 'f4'])\n",
        "data"
      ],
      "metadata": {
        "id": "9BFuinIkFGo7"
      },
      "execution_count": null,
      "outputs": []
    },
    {
      "cell_type": "markdown",
      "source": [
        "###splitting dataset"
      ],
      "metadata": {
        "id": "Nv18cThwGAsk"
      }
    },
    {
      "cell_type": "code",
      "source": [
        "# two ways \n",
        "# 1. train test split\n",
        "# 2. kfold splitting"
      ],
      "metadata": {
        "id": "1X0xPbitGClS"
      },
      "execution_count": null,
      "outputs": []
    },
    {
      "cell_type": "code",
      "source": [
        "from sklearn.datasets import load_diabetes\n",
        "import pandas as pd\n",
        "x, y = load_diabetes(return_X_y=True)\n",
        "x=pd.DataFrame(x)\n",
        "y=pd.DataFrame(y)\n",
        "print(x)\n",
        "print(y)"
      ],
      "metadata": {
        "id": "5I4NesgmGLX1",
        "colab": {
          "base_uri": "https://localhost:8080/"
        },
        "outputId": "293eb143-d30a-490b-ddfd-f1123c78dd80"
      },
      "execution_count": null,
      "outputs": [
        {
          "output_type": "stream",
          "name": "stdout",
          "text": [
            "            0         1         2         3         4         5         6  \\\n",
            "0    0.038076  0.050680  0.061696  0.021872 -0.044223 -0.034821 -0.043401   \n",
            "1   -0.001882 -0.044642 -0.051474 -0.026328 -0.008449 -0.019163  0.074412   \n",
            "2    0.085299  0.050680  0.044451 -0.005671 -0.045599 -0.034194 -0.032356   \n",
            "3   -0.089063 -0.044642 -0.011595 -0.036656  0.012191  0.024991 -0.036038   \n",
            "4    0.005383 -0.044642 -0.036385  0.021872  0.003935  0.015596  0.008142   \n",
            "..        ...       ...       ...       ...       ...       ...       ...   \n",
            "437  0.041708  0.050680  0.019662  0.059744 -0.005697 -0.002566 -0.028674   \n",
            "438 -0.005515  0.050680 -0.015906 -0.067642  0.049341  0.079165 -0.028674   \n",
            "439  0.041708  0.050680 -0.015906  0.017282 -0.037344 -0.013840 -0.024993   \n",
            "440 -0.045472 -0.044642  0.039062  0.001215  0.016318  0.015283 -0.028674   \n",
            "441 -0.045472 -0.044642 -0.073030 -0.081414  0.083740  0.027809  0.173816   \n",
            "\n",
            "            7         8         9  \n",
            "0   -0.002592  0.019908 -0.017646  \n",
            "1   -0.039493 -0.068330 -0.092204  \n",
            "2   -0.002592  0.002864 -0.025930  \n",
            "3    0.034309  0.022692 -0.009362  \n",
            "4   -0.002592 -0.031991 -0.046641  \n",
            "..        ...       ...       ...  \n",
            "437 -0.002592  0.031193  0.007207  \n",
            "438  0.034309 -0.018118  0.044485  \n",
            "439 -0.011080 -0.046879  0.015491  \n",
            "440  0.026560  0.044528 -0.025930  \n",
            "441 -0.039493 -0.004220  0.003064  \n",
            "\n",
            "[442 rows x 10 columns]\n",
            "         0\n",
            "0    151.0\n",
            "1     75.0\n",
            "2    141.0\n",
            "3    206.0\n",
            "4    135.0\n",
            "..     ...\n",
            "437  178.0\n",
            "438  104.0\n",
            "439  132.0\n",
            "440  220.0\n",
            "441   57.0\n",
            "\n",
            "[442 rows x 1 columns]\n"
          ]
        }
      ]
    },
    {
      "cell_type": "code",
      "source": [
        "# train test split\n",
        "from sklearn.model_selection import train_test_split\n",
        "x_train, x_test, y_train, y_test = train_test_split(x, y, train_size=0.5, random_state=42, shuffle=False) \n",
        "print(x_train)\n",
        "print(y_train) \n",
        "print(x_test) \n",
        "print(y_test) "
      ],
      "metadata": {
        "id": "Wz5vl-x5GOAW"
      },
      "execution_count": null,
      "outputs": []
    },
    {
      "cell_type": "code",
      "source": [
        "#k-fold splitting\n",
        "\n",
        "from sklearn.model_selection import KFold\n",
        "i= 1\n",
        "kf = KFold(n_splits=10)\n",
        "for train_set, test_set in kf.split(x):\n",
        "    print(\"iteration:\", i)\n",
        "    print(train_set, \"having length:\", len(train_set))\n",
        "    print(test_set, \"having length:\", len(test_set))\n",
        "    print(\"----------------------------------------------------------------------------------------------------\")\n",
        "    i+=1"
      ],
      "metadata": {
        "id": "BTEkw6hOGQ6h"
      },
      "execution_count": null,
      "outputs": []
    },
    {
      "cell_type": "code",
      "source": [
        "from sklearn.datasets import load_diabetes\n",
        "data=load_diabetes()\n",
        "X,y=load_diabetes(return_X_y=True)"
      ],
      "metadata": {
        "id": "g06Qju_5CrF6"
      },
      "execution_count": null,
      "outputs": []
    },
    {
      "cell_type": "code",
      "source": [
        "#k-fold\n",
        "#from sklearn.model_selection import train_test_split \n",
        "#model becomes bias and in age in rnge of 40-75 model will give good performance and for 75-95 not goood,,,,possibility of overfitting\n",
        "#instead of train test spilt we will use K-fold\n",
        "\n",
        "from sklearn.model_selection import KFold #gives higher accuracy than train test incase of unseen unknown data\n",
        "kf = KFold(n_splits=10, shuffle=True)\n",
        "for train,test in kf.split(X,y):\n",
        "  Xtrain, Xtest = X[train], X[test]\n",
        "  ytrain, ytest = y[train], y[test]"
      ],
      "metadata": {
        "id": "iB8qRTo8Ck0c"
      },
      "execution_count": null,
      "outputs": []
    }
  ]
}