{
  "cells": [
    {
      "cell_type": "markdown",
      "metadata": {
        "id": "Jf3s1jfpEj3J"
      },
      "source": [
        "# NL Classifier"
      ]
    },
    {
      "cell_type": "code",
      "execution_count": null,
      "metadata": {
        "colab": {
          "background_save": true,
          "base_uri": "https://localhost:8080/"
        },
        "id": "ZcdasikVEhAi",
        "outputId": "de705307-7935-495f-a534-49a4af35223a"
      },
      "outputs": [],
      "source": [
        "from sklearn.datasets import fetch_20newsgroups\n",
        "training_data = fetch_20newsgroups(subset=\"train\", shuffle=True)\n",
        "training_data"
      ]
    },
    {
      "cell_type": "code",
      "execution_count": null,
      "metadata": {
        "id": "xqu01O-LEqxj"
      },
      "outputs": [],
      "source": [
        "from sklearn.feature_extraction.text import TfidfVectorizer\n",
        "from sklearn.naive_bayes import MultinomialNB"
      ]
    },
    {
      "cell_type": "code",
      "execution_count": null,
      "metadata": {
        "id": "szvdQpiGEqu2"
      },
      "outputs": [],
      "source": [
        "from sklearn.pipeline import Pipeline\n",
        "pipe1 = Pipeline([('tf', TfidfVectorizer()), ('mnb', MultinomialNB())])"
      ]
    },
    {
      "cell_type": "code",
      "execution_count": null,
      "metadata": {
        "id": "cNj8MYfTEqqZ"
      },
      "outputs": [],
      "source": [
        "pipe2 = pipe1.fit(training_data.data, training_data.target)"
      ]
    },
    {
      "cell_type": "code",
      "execution_count": null,
      "metadata": {
        "id": "TtuBTOO1Eqm0"
      },
      "outputs": [],
      "source": [
        "test_data = fetch_20newsgroups(subset=\"test\", shuffle=True)"
      ]
    },
    {
      "cell_type": "code",
      "execution_count": null,
      "metadata": {
        "colab": {
          "background_save": true
        },
        "id": "j8HC3gKwEqki"
      },
      "outputs": [],
      "source": [
        "y_pred = pipe2.predict(test_data.data) "
      ]
    },
    {
      "cell_type": "code",
      "execution_count": null,
      "metadata": {
        "colab": {
          "background_save": true,
          "base_uri": "https://localhost:8080/"
        },
        "id": "uCCF1_FiEqhU",
        "outputId": "b6f3187a-dbd9-43d0-fe66-066dff562507"
      },
      "outputs": [
        {
          "data": {
            "text/plain": [
              "0.7738980350504514"
            ]
          },
          "execution_count": null,
          "metadata": {},
          "output_type": "execute_result"
        }
      ],
      "source": [
        "import numpy as np\n",
        "np.mean(y_pred == test_data.target)"
      ]
    },
    {
      "cell_type": "code",
      "execution_count": null,
      "metadata": {
        "id": "_E0txvQhEqe_"
      },
      "outputs": [],
      "source": [
        "from sklearn.svm import SVC\n",
        "svc = SVC()\n",
        "svc_params = {'C':[0.1,1,10,100,1000],\n",
        "               'gamma':[1,0.1 ,0.01, 0.001, 0.0001],\n",
        "               'kernel':['rbf','linear']}"
      ]
    },
    {
      "cell_type": "code",
      "execution_count": null,
      "metadata": {
        "id": "IS78KBEvEqb0"
      },
      "outputs": [],
      "source": [
        "from sklearn.model_selection import GridSearchCV\n",
        "gscv = GridSearchCV(svc, svc_params, n_jobs=-1)"
      ]
    },
    {
      "cell_type": "code",
      "execution_count": null,
      "metadata": {
        "id": "xIIyILZoEqZe"
      },
      "outputs": [],
      "source": [
        "pipe11 = Pipeline([('tf', TfidfVectorizer()), ('grid', GridSearchCV(svc, svc_params, n_jobs=-1))])"
      ]
    },
    {
      "cell_type": "code",
      "execution_count": null,
      "metadata": {
        "id": "H5JQzqwaKfxs"
      },
      "outputs": [],
      "source": [
        "pipe22 = pipe11.fit(training_data.data, training_data.target)"
      ]
    },
    {
      "cell_type": "code",
      "execution_count": null,
      "metadata": {
        "id": "g6Xvysa1Kdmf"
      },
      "outputs": [],
      "source": [
        "pipe22.predict(test_data.data)"
      ]
    },
    {
      "cell_type": "code",
      "execution_count": null,
      "metadata": {
        "id": "sVHDJ2KJE_dC"
      },
      "outputs": [],
      "source": [
        "gscv.best_score_"
      ]
    }
  ],
  "metadata": {
    "colab": {
      "name": "NL-classifier.ipynb",
      "provenance": []
    },
    "kernelspec": {
      "display_name": "Python 3",
      "name": "python3"
    },
    "language_info": {
      "name": "python"
    }
  },
  "nbformat": 4,
  "nbformat_minor": 0
}