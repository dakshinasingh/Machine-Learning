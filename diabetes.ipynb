{
  "nbformat": 4,
  "nbformat_minor": 0,
  "metadata": {
    "colab": {
      "name": "diabetes.ipynb",
      "provenance": [],
      "collapsed_sections": []
    },
    "kernelspec": {
      "name": "python3",
      "display_name": "Python 3"
    },
    "language_info": {
      "name": "python"
    }
  },
  "cells": [
    {
      "cell_type": "code",
      "execution_count": null,
      "metadata": {
        "id": "PqIDXeRQBzJg"
      },
      "outputs": [],
      "source": [
        "from sklearn.datasets import load_diabetes\n",
        "x,y=load_diabetes(return_X_y=True)"
      ]
    },
    {
      "cell_type": "code",
      "source": [
        "from sklearn.preprocessing import StandardScaler\n",
        "\n",
        "scaler=StandardScaler()\n",
        "x=scaler.fit_transform(x)"
      ],
      "metadata": {
        "id": "dw9tyCLlB8o6"
      },
      "execution_count": null,
      "outputs": []
    },
    {
      "cell_type": "code",
      "source": [
        "from sklearn.decomposition import PCA\n",
        "pca = PCA(n_components=2)    #principal component analysis, best features selected, out of 10 it will select 2 features\n",
        "pca1=pca.fit_transform(x)    #x contains 10 features"
      ],
      "metadata": {
        "id": "Mos3x5mRB_bb"
      },
      "execution_count": null,
      "outputs": []
    },
    {
      "cell_type": "code",
      "source": [
        "from sklearn.model_selection import KFold\n",
        "kf=KFold(n_splits=5)\n",
        "for train,test in kf.split(x,y):\n",
        "    Xtrain,Xtest=X[train], X[test]\n",
        "    ytrain,ytest=y[train], y[test]"
      ],
      "metadata": {
        "id": "w3D-VoeZCEO-"
      },
      "execution_count": null,
      "outputs": []
    },
    {
      "cell_type": "code",
      "source": [
        "from sklearn.linear_model import LinearRegression  #supervised learning. when recognises => classification, when predicts => regression\n",
        "model_lr=LinearRegression()      #train the model using (x_train, y_train)=training data\n",
        "model_lr.fit(Xtrain,ytrain)"
      ],
      "metadata": {
        "colab": {
          "base_uri": "https://localhost:8080/"
        },
        "id": "-1p5AurcCHI_",
        "outputId": "42367ad0-b261-4242-d157-73ccc2cd8a91"
      },
      "execution_count": null,
      "outputs": [
        {
          "output_type": "execute_result",
          "data": {
            "text/plain": [
              "LinearRegression()"
            ]
          },
          "metadata": {},
          "execution_count": 5
        }
      ]
    },
    {
      "cell_type": "code",
      "source": [
        "y_pre=model_lr.predict(Xtest)"
      ],
      "metadata": {
        "id": "nH30Lw3cCJTQ"
      },
      "execution_count": null,
      "outputs": []
    },
    {
      "cell_type": "code",
      "source": [
        "from sklearn import metrics\n",
        "import numpy as np\n",
        "\n",
        "print(\"Mean absolute error is - \",metrics.mean_absolute_error(ytest,y_pre))\n",
        "print(\"Mean sqaured error is - \",metrics.mean_squared_error(ytest,y_pre))\n",
        "print(\"Root Mean square error is - \",np.sqrt(metrics.mean_squared_error(ytest,y_pre)))"
      ],
      "metadata": {
        "colab": {
          "base_uri": "https://localhost:8080/"
        },
        "id": "L9k6EQr9CWCC",
        "outputId": "f73e458a-af3c-427f-af00-28f4a3d400fd"
      },
      "execution_count": null,
      "outputs": [
        {
          "output_type": "stream",
          "name": "stdout",
          "text": [
            "Mean absolute error is -  42.38729269073616\n",
            "Mean sqaured error is -  2910.2069332665283\n",
            "Root Mean square error is -  53.94633382600275\n"
          ]
        }
      ]
    },
    {
      "cell_type": "code",
      "source": [
        "from sklearn.tree import DecisionTreeRegressor\n",
        "model_D=DecisionTreeRegressor()\n",
        "model_D.fit(Xtrain,ytrain)"
      ],
      "metadata": {
        "colab": {
          "base_uri": "https://localhost:8080/"
        },
        "id": "NoBwZ51MCYzH",
        "outputId": "873164d0-be00-4106-d138-458b910b2b63"
      },
      "execution_count": null,
      "outputs": [
        {
          "output_type": "execute_result",
          "data": {
            "text/plain": [
              "DecisionTreeRegressor()"
            ]
          },
          "metadata": {},
          "execution_count": 8
        }
      ]
    },
    {
      "cell_type": "code",
      "source": [
        "y_pred_D=model_D.predict(Xtest)"
      ],
      "metadata": {
        "id": "m5KxQUeBCbRD"
      },
      "execution_count": null,
      "outputs": []
    },
    {
      "cell_type": "code",
      "source": [
        "print(\"Mean absolute error is - \",metrics.mean_absolute_error(ytest,y_pred_D))\n",
        "print(\"Mean absolute error is - \",metrics.mean_squared_error(ytest,y_pred_D))\n",
        "print(\"Root Mean square error is - \",np.sqrt(metrics.mean_squared_error(ytest,y_pred_D)))"
      ],
      "metadata": {
        "colab": {
          "base_uri": "https://localhost:8080/"
        },
        "id": "WIe2M8KuCeFi",
        "outputId": "00b2313e-5319-406a-9754-73dcdc020dad"
      },
      "execution_count": null,
      "outputs": [
        {
          "output_type": "stream",
          "name": "stdout",
          "text": [
            "Mean absolute error is -  68.56818181818181\n",
            "Mean absolute error is -  7370.431818181818\n",
            "Root Mean square error is -  85.8512190838419\n"
          ]
        }
      ]
    },
    {
      "cell_type": "code",
      "source": [
        "from sklearn.ensemble import StackingRegressor\n",
        "\n",
        "level0=list()\n",
        "level0.append(('lr',LinearRegression()))\n",
        "level0.append(('dr',DecisionTreeRegressor()))          #estimator\n",
        "level1=LinearRegression()                             #meta learner, base learner\n",
        "model_en=StackingRegressor(estimators=level0,final_estimator=level1, cv=5)"
      ],
      "metadata": {
        "id": "94rmEz0wCh11"
      },
      "execution_count": null,
      "outputs": []
    },
    {
      "cell_type": "code",
      "source": [
        "model_en.fit(Xtrain,ytrain)"
      ],
      "metadata": {
        "colab": {
          "base_uri": "https://localhost:8080/"
        },
        "id": "yZilphjTCi9K",
        "outputId": "fa691276-8c4e-4ff1-d03a-754fbd9c62cd"
      },
      "execution_count": null,
      "outputs": [
        {
          "output_type": "execute_result",
          "data": {
            "text/plain": [
              "StackingRegressor(cv=5,\n",
              "                  estimators=[('lr', LinearRegression()),\n",
              "                              ('dr', DecisionTreeRegressor())],\n",
              "                  final_estimator=LinearRegression())"
            ]
          },
          "metadata": {},
          "execution_count": 12
        }
      ]
    },
    {
      "cell_type": "code",
      "source": [
        "y_pred_en=model_en.predict(Xtest)"
      ],
      "metadata": {
        "id": "uBwORwaOCmGu"
      },
      "execution_count": null,
      "outputs": []
    },
    {
      "cell_type": "code",
      "source": [
        "print(\"Mean absolute error is - \",metrics.mean_absolute_error(ytest,y_pred_en))\n",
        "print(\"Mean absolute error is - \",metrics.mean_squared_error(ytest,y_pred_en))\n",
        "print(\"Root Mean square error is - \",np.sqrt(metrics.mean_squared_error(ytest,y_pred_en)))"
      ],
      "metadata": {
        "colab": {
          "base_uri": "https://localhost:8080/"
        },
        "id": "0Nhf9130CpNX",
        "outputId": "03f211b4-8d5e-44c6-9cb7-ac120518ee79"
      },
      "execution_count": null,
      "outputs": [
        {
          "output_type": "stream",
          "name": "stdout",
          "text": [
            "Mean absolute error is -  42.870715423997986\n",
            "Mean absolute error is -  2944.6264047593822\n",
            "Root Mean square error is -  54.26441195442352\n"
          ]
        }
      ]
    },
    {
      "cell_type": "code",
      "source": [
        "'''\n",
        "from sklearn.ensemble import StackingRegressor\n",
        "level0 = []\n",
        "level0.append('lr', LinearRegression())\n",
        "level0.append('dt', DecisionTreeClassifier())\n",
        "level1 = LinearRegression()\n",
        "sg = StackingRegressor(estimators=level0, final_estimator=level1, cv = 2)\n",
        "'''"
      ],
      "metadata": {
        "id": "oUD3c5zoEFix"
      },
      "execution_count": null,
      "outputs": []
    }
  ]
}